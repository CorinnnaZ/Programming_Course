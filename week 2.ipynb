{
 "cells": [
  {
   "cell_type": "markdown",
   "metadata": {},
   "source": [
    "# Programming Skills Course: Week 2"
   ]
  },
  {
   "cell_type": "markdown",
   "metadata": {},
   "source": [
    "### Task 1: Positive/Negative Numbers"
   ]
  },
  {
   "cell_type": "code",
   "execution_count": null,
   "metadata": {},
   "outputs": [],
   "source": [
    "def PosOrNegative():\n",
    "    num = float(input('Enter a number: '))\n",
    "    if num == 0:\n",
    "        print('Zero')\n",
    "    elif num >0:\n",
    "        print('Positive')\n",
    "    elif num < 0:\n",
    "        print('Negative')"
   ]
  },
  {
   "cell_type": "code",
   "execution_count": null,
   "metadata": {},
   "outputs": [],
   "source": [
    "PosOrNegative()"
   ]
  },
  {
   "cell_type": "markdown",
   "metadata": {},
   "source": [
    "### Task 2: Guess Number"
   ]
  },
  {
   "cell_type": "code",
   "execution_count": null,
   "metadata": {},
   "outputs": [],
   "source": [
    "def numGuess():\n",
    "    from random import randint\n",
    "    toGuess = randint(1,10)\n",
    "    aGuess = 100\n",
    "    while aGuess != toGuess:\n",
    "        aGuess = int(input(\"Enter a number (answer is an integer): \"))\n",
    "        if aGuess == toGuess:\n",
    "            print('Correct!')\n",
    "            break\n",
    "        elif aGuess < toGuess:\n",
    "            print('Too low.')\n",
    "        elif aGuess > toGuessL\n",
    "            print('Too high.')"
   ]
  },
  {
   "cell_type": "code",
   "execution_count": null,
   "metadata": {},
   "outputs": [],
   "source": [
    "numGuess()"
   ]
  },
  {
   "cell_type": "markdown",
   "metadata": {},
   "source": [
    "### Task 3: Multiplication Table"
   ]
  },
  {
   "cell_type": "code",
   "execution_count": null,
   "metadata": {},
   "outputs": [],
   "source": [
    "def timestable():\n",
    "    num = int(input('Enter an integer: '))\n",
    "    for i in range (1,11):\n",
    "        print(f'{num} * {i} = {num*i}')"
   ]
  },
  {
   "cell_type": "code",
   "execution_count": null,
   "metadata": {},
   "outputs": [],
   "source": [
    "timestable()"
   ]
  },
  {
   "cell_type": "markdown",
   "metadata": {},
   "source": [
    "### Task 4: Countdown Timer"
   ]
  },
  {
   "cell_type": "code",
   "execution_count": null,
   "metadata": {},
   "outputs": [],
   "source": [
    "def Countdown():\n",
    "    num = int(input('Enter an integer to countdown from: '))\n",
    "    print(num)\n",
    "    while num != 0:\n",
    "        num -= 1\n",
    "        print(num)"
   ]
  },
  {
   "cell_type": "code",
   "execution_count": null,
   "metadata": {},
   "outputs": [],
   "source": [
    "Countdown()"
   ]
  },
  {
   "cell_type": "markdown",
   "metadata": {},
   "source": [
    "### Task 5: FizzBuzz"
   ]
  },
  {
   "cell_type": "code",
   "execution_count": null,
   "metadata": {},
   "outputs": [],
   "source": [
    "def FizzBuzz():\n",
    "    for i in range of (1,51):\n",
    "        if num % 5 == 0 and num % 3 ==0:\n",
    "            print('Fizzbuzz')\n",
    "        elif num % 5:\n",
    "            print('Buzz')\n",
    "        elif num % 3:\n",
    "            print('Fizz')\n",
    "        else:\n",
    "            print(num)"
   ]
  },
  {
   "cell_type": "code",
   "execution_count": null,
   "metadata": {},
   "outputs": [],
   "source": [
    "FizzBuzz()"
   ]
  },
  {
   "cell_type": "markdown",
   "metadata": {},
   "source": [
    "### Task 6: Prime Checker"
   ]
  },
  {
   "cell_type": "code",
   "execution_count": null,
   "metadata": {},
   "outputs": [],
   "source": [
    "def prime():\n",
    "    num = int(input('Enter an integer: '))\n",
    "    for i in range (2, num):\n",
    "        if num % i == 0:\n",
    "            print(f'{num} is not a prime number.')\n",
    "    print(f'{num} is a prime number.')"
   ]
  },
  {
   "cell_type": "code",
   "execution_count": null,
   "metadata": {},
   "outputs": [],
   "source": [
    "prime()"
   ]
  },
  {
   "cell_type": "markdown",
   "metadata": {},
   "source": [
    "# Week 3"
   ]
  },
  {
   "cell_type": "markdown",
   "metadata": {},
   "source": [
    "### Task 1: Circle calculations"
   ]
  },
  {
   "cell_type": "code",
   "execution_count": null,
   "metadata": {},
   "outputs": [],
   "source": [
    "def circle():\n",
    "    import math\n",
    "    pi = math.pi\n",
    "    r = float(input(\"Enter a circle's radius: \"))\n",
    "    print(f'The area of your circle is {(pi*r**2):.2f} to 2.d.p. .')\n",
    "    print(f'The circumference of your circle is {(pi*r*r*2):.2f} to 2.d.p .')"
   ]
  },
  {
   "cell_type": "markdown",
   "metadata": {},
   "source": [
    "### Task 2: 2 Dice Rolls"
   ]
  },
  {
   "cell_type": "code",
   "execution_count": null,
   "metadata": {},
   "outputs": [],
   "source": [
    "def diceroll():\n",
    "    import random\n",
    "    roll1 = random.randint(1,6)\n",
    "    roll2 = random.randint(1,6)\n",
    "    print(f'Your first roll was {roll1}')\n",
    "    print(f'Your second roll was {roll2}')\n",
    "    print(f'Your total score is {roll1+roll2}.')"
   ]
  },
  {
   "cell_type": "markdown",
   "metadata": {},
   "source": [
    "### Task 3: Countdown"
   ]
  },
  {
   "cell_type": "code",
   "execution_count": null,
   "metadata": {},
   "outputs": [],
   "source": [
    "def countdown():\n",
    "    import time\n",
    "    num = int(input('enter a number to countdown from: '))\n",
    "    for i in range (0, num+1):\n",
    "        time.sleep(1)\n",
    "        print(num)\n",
    "        if num == 0:\n",
    "            break\n",
    "        num -= 1"
   ]
  },
  {
   "cell_type": "markdown",
   "metadata": {},
   "source": [
    "### Task 4: Password Generator"
   ]
  },
  {
   "cell_type": "code",
   "execution_count": null,
   "metadata": {},
   "outputs": [],
   "source": [
    "def pass_gen():\n",
    "    # at keast 8"
   ]
  },
  {
   "cell_type": "markdown",
   "metadata": {},
   "source": [
    "### Task 5: Stopwatch"
   ]
  },
  {
   "cell_type": "code",
   "execution_count": null,
   "metadata": {},
   "outputs": [],
   "source": [
    "def stopwatch():\n",
    "    import time\n",
    "    input() #enter to dtop"
   ]
  }
 ],
 "metadata": {
  "language_info": {
   "name": "python"
  }
 },
 "nbformat": 4,
 "nbformat_minor": 2
}
