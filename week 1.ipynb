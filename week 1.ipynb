{
 "cells": [
  {
   "cell_type": "markdown",
   "metadata": {},
   "source": [
    "# Programming Skills Course: Week 1"
   ]
  },
  {
   "cell_type": "markdown",
   "metadata": {},
   "source": [
    "### task 1: temperature conversion"
   ]
  },
  {
   "cell_type": "code",
   "execution_count": null,
   "metadata": {},
   "outputs": [
    {
     "name": "stdout",
     "output_type": "stream",
     "text": [
      "20*C is 68.0*F.\n"
     ]
    }
   ],
   "source": [
    "def tempconvert():\n",
    "    '''temp conversion between celsius and farenheit'''\n",
    "    option = int(input('Enter 1 to convert from Celsius to Farenheit; Enter 2 to convert from Farenheit to Celsius: '))\n",
    "    if option == 1:\n",
    "        '''conversion from celsius to farenheit'''\n",
    "        ctemp = int(input('Enter temperature in Celsius: '))\n",
    "        ftemp = ctemp*9/5+32\n",
    "        print(f'{ctemp}*C is {ftemp}*F.')\n",
    "    if option == 2:\n",
    "        '''conversion from farenheit to celsius'''\n",
    "        ftemp = int(input('Enter temperature in Farenheit: '))\n",
    "        ctemp = (ftemp-32)*5/9\n",
    "        print(f'{ftemp}*F is {ctemp}*C.')\n",
    "\n",
    "tempconvert()\n"
   ]
  },
  {
   "cell_type": "code",
   "execution_count": null,
   "metadata": {},
   "outputs": [
    {
     "name": "stdout",
     "output_type": "stream",
     "text": [
      "66*F is 18.88888888888889*C.\n"
     ]
    }
   ],
   "source": [
    "tempconvert()"
   ]
  },
  {
   "cell_type": "markdown",
   "metadata": {},
   "source": [
    "### task 2: simple calculation"
   ]
  },
  {
   "cell_type": "code",
   "execution_count": null,
   "metadata": {},
   "outputs": [],
   "source": [
    "def calc():\n",
    "    num1 = float(input('Enter first number: '))\n",
    "    num2 = float(input('Enter second number: '))\n",
    "    total = round(num1 + num2, 1)\n",
    "    diff = round(num1 - num2, 1)\n",
    "    product = round(num1 * num2, 1)\n",
    "    quotient = round(num1 / num2, 1)\n",
    "    modulus = round(num1 % num2, 1)\n",
    "    int_div = round(num1 // num2, 1)\n",
    "    print(f'Sum: {total}')\n",
    "    print(f'Difference: {diff}')\n",
    "    print(f'Product: {product}')\n",
    "    print(f'Quotient: {quotient}')\n",
    "    print(f'Modulus: {modulus}')\n",
    "    print(f'Result of Integer Division: {int_div}')"
   ]
  },
  {
   "cell_type": "code",
   "execution_count": null,
   "metadata": {},
   "outputs": [],
   "source": [
    "calc()"
   ]
  },
  {
   "cell_type": "markdown",
   "metadata": {},
   "source": [
    "### task 3: string manip - name"
   ]
  },
  {
   "cell_type": "code",
   "execution_count": null,
   "metadata": {},
   "outputs": [],
   "source": [
    "def full_name():\n",
    "    full_name = input('Enter your full name: ')\n",
    "    split_name = full_name.split()\n",
    "    initials_list = []\n",
    "    for word in split_name: initials_list.append(word[0].upper())\n",
    "    initials = ''.join(initials_list)\n",
    "    print(f'Your initials are: {initials}')\n",
    "    space = ' '\n",
    "    count = 0\n",
    "    for i in full_name:\n",
    "        if i != space:\n",
    "            count +=1\n",
    "    print(f'Total number of characters (excluding spaces): {count}')\n",
    "    reversed_name = ''.join(reversed(full_name))\n",
    "    print(f'Your name in reverse order is: {reversed_name}')"
   ]
  },
  {
   "cell_type": "code",
   "execution_count": null,
   "metadata": {},
   "outputs": [],
   "source": [
    "full_name()"
   ]
  }
 ],
 "metadata": {
  "language_info": {
   "name": "python"
  }
 },
 "nbformat": 4,
 "nbformat_minor": 2
}
