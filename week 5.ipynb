{
 "cells": [
  {
   "cell_type": "markdown",
   "metadata": {},
   "source": [
    "# Programming Course: Week 5"
   ]
  },
  {
   "cell_type": "markdown",
   "metadata": {},
   "source": [
    "**1. Student Score Entry **\n",
    "Write a program that:\n",
    "\n",
    "Uses a function to ask the user to enter student test scores.\n",
    "Ensures only numbers between 0 and 100 are accepted (input validation).\n",
    "Stores valid scores in a list.\n",
    "Uses a loop to allow multiple entries until the user decides to stop.\n",
    "Uses another function to display all scores in a formatted list."
   ]
  },
  {
   "cell_type": "code",
   "execution_count": null,
   "metadata": {},
   "outputs": [],
   "source": [
    "def grade_checker():\n",
    "    while True:\n",
    "        try:\n",
    "            score = float(input(\"Please enter your score from that test: \"))\n",
    "            if score >= 0 and score <= 100:\n",
    "                return score\n",
    "            else:\n",
    "                print('Your test score must be within the range of 0-100.')\n",
    "        except ValueError:\n",
    "            print(\"Invalid input. Please enter a valid number.\")\n",
    "\n",
    "def grade_input():\n",
    "    subject = input('input the subject of the test: ')\n",
    "    score = grade_checker()\n",
    "    return subject,score\n",
    "\n",
    "def test_scores():\n",
    "    scores = []\n",
    "    num=1\n",
    "    subject = input('input the subject of the test: ')\n",
    "    score = grade_checker()\n",
    "    scores.append((grade_input()))\n",
    "    cont = input('continue adding scores? enter \"yes\" to continue; anything else to exit: ')\n",
    "    if cont == 'yes':\n",
    "        scores.append((grade_input()))\n",
    "    grade_check = input('check your score? enter \"yes\" to check; anything else to exit: ')\n",
    "    if grade_check == 'yes':\n",
    "        for subject,score in scores:\n",
    "            print(f'{num}. {subject} test: score: {score}')\n",
    "            num+=1\n",
    "    else:\n",
    "        break"
   ]
  },
  {
   "cell_type": "code",
   "execution_count": 16,
   "metadata": {},
   "outputs": [
    {
     "ename": "NameError",
     "evalue": "name 'score' is not defined",
     "output_type": "error",
     "traceback": [
      "\u001b[0;31m---------------------------------------------------------------------------\u001b[0m",
      "\u001b[0;31mNameError\u001b[0m                                 Traceback (most recent call last)",
      "Cell \u001b[0;32mIn[16], line 1\u001b[0m\n\u001b[0;32m----> 1\u001b[0m \u001b[43mtest_scores\u001b[49m\u001b[43m(\u001b[49m\u001b[43m)\u001b[49m\n",
      "Cell \u001b[0;32mIn[15], line 27\u001b[0m, in \u001b[0;36mtest_scores\u001b[0;34m()\u001b[0m\n\u001b[1;32m     25\u001b[0m \u001b[38;5;28;01mif\u001b[39;00m grade_check \u001b[38;5;241m==\u001b[39m \u001b[38;5;124m'\u001b[39m\u001b[38;5;124myes\u001b[39m\u001b[38;5;124m'\u001b[39m:\n\u001b[1;32m     26\u001b[0m     \u001b[38;5;28;01mfor\u001b[39;00m subject,topic \u001b[38;5;129;01min\u001b[39;00m scores:\n\u001b[0;32m---> 27\u001b[0m         \u001b[38;5;28mprint\u001b[39m(\u001b[38;5;124mf\u001b[39m\u001b[38;5;124m'\u001b[39m\u001b[38;5;132;01m{\u001b[39;00mnum\u001b[38;5;132;01m}\u001b[39;00m\u001b[38;5;124m. \u001b[39m\u001b[38;5;132;01m{\u001b[39;00msubject\u001b[38;5;132;01m}\u001b[39;00m\u001b[38;5;124m test: score: \u001b[39m\u001b[38;5;132;01m{\u001b[39;00m\u001b[43mscore\u001b[49m\u001b[38;5;132;01m}\u001b[39;00m\u001b[38;5;124m'\u001b[39m)\n\u001b[1;32m     28\u001b[0m         num\u001b[38;5;241m+\u001b[39m\u001b[38;5;241m=\u001b[39m\u001b[38;5;241m1\u001b[39m\n\u001b[1;32m     29\u001b[0m \u001b[38;5;28;01melse\u001b[39;00m:\n",
      "\u001b[0;31mNameError\u001b[0m: name 'score' is not defined"
     ]
    }
   ],
   "source": [
    "test_scores()"
   ]
  },
  {
   "cell_type": "markdown",
   "metadata": {},
   "source": [
    "2. Research Notes File Manager\n",
    "Write a program that:\n",
    "\n",
    "Uses a function to allow users to save research notes to a file.\n",
    "Uses another function to retrieve and display notes from the file.\n",
    "Uses try-except to handle file-related errors (e.g., file not found).\n",
    "Ensures that a category name is entered before saving.\n",
    "Uses a loop to allow the user to enter multiple notes before saving.\n",
    "Reminder: Reading and Writing to Files\n",
    "#### Writing to a file\n",
    "with open(\"notes.txt\", \"w\") as file:\n",
    "    file.write(\"Chemistry - Organic Reactions\\n\")\n",
    "    file.write(\"Physics - Newton's Laws\\n\")\n",
    "\n",
    "print(\"Notes saved successfully.\")\n",
    "\n",
    "#### Reading from a file\n",
    "with open(\"notes.txt\", \"r\") as file:\n",
    "    content = file.readlines()  # Reads all lines into a list\n",
    "\n",
    "print(\"\\nYour saved notes:\")\n",
    "for line in content:\n",
    "    print(line.strip())  # Strip removes extra newline characters"
   ]
  },
  {
   "cell_type": "code",
   "execution_count": null,
   "metadata": {},
   "outputs": [],
   "source": [
    "def note_manage():\n",
    "    "
   ]
  }
 ],
 "metadata": {
  "kernelspec": {
   "display_name": "Python 3 (ipykernel)",
   "language": "python",
   "name": "python3"
  },
  "language_info": {
   "codemirror_mode": {
    "name": "ipython",
    "version": 3
   },
   "file_extension": ".py",
   "mimetype": "text/x-python",
   "name": "python",
   "nbconvert_exporter": "python",
   "pygments_lexer": "ipython3",
   "version": "3.12.1"
  }
 },
 "nbformat": 4,
 "nbformat_minor": 2
}
