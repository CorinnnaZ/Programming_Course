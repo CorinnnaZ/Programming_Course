{
 "cells": [
  {
   "cell_type": "markdown",
   "metadata": {},
   "source": [
    "# Programming Course: Week 5"
   ]
  },
  {
   "cell_type": "markdown",
   "metadata": {},
   "source": [
    "### 1. Student Score Entry\n",
    "Write a program that:\n",
    "\n",
    "Uses a function to ask the user to enter student test scores.\n",
    "Ensures only numbers between 0 and 100 are accepted (input validation).\n",
    "Stores valid scores in a list.\n",
    "Uses a loop to allow multiple entries until the user decides to stop.\n",
    "Uses another function to display all scores in a formatted list."
   ]
  },
  {
   "cell_type": "code",
   "execution_count": 1,
   "metadata": {},
   "outputs": [],
   "source": [
    "scores = []\n",
    "\n",
    "def gradeValidate():\n",
    "    while True:\n",
    "        try:\n",
    "            score = float(input(\"Please enter your score from that test: \"))\n",
    "            if score >= 0 and score <= 100:\n",
    "                return score\n",
    "            else:\n",
    "                print('Your test score must be within the range of 0-100.')\n",
    "        except ValueError:\n",
    "            print(\"Invalid input. Please enter a valid number.\")\n",
    "\n",
    "def grade_input():\n",
    "    subject = input('input the subject of the test: ')\n",
    "    score = gradeValidate()\n",
    "    return subject,score\n",
    "\n",
    "def test_scores():\n",
    "    scores.append((grade_input()))\n",
    "    cont = input('continue adding scores? enter \"yes\" to continue; anything else to exit: ')\n",
    "    if cont == 'yes':\n",
    "        test_scores()\n",
    "    else:\n",
    "        gradePeek()\n",
    "\n",
    "def gradePeek():\n",
    "    num=1\n",
    "    grade_check = input('check your score? enter \"yes\" to check; anything else to exit: ')\n",
    "    if grade_check == 'yes':\n",
    "        for subject,score in scores:\n",
    "            print(f'{num}. {subject} test: score: {score}%')\n",
    "            num+=1\n",
    "    else:\n",
    "        raise SystemExit"
   ]
  },
  {
   "cell_type": "code",
   "execution_count": 2,
   "metadata": {},
   "outputs": [
    {
     "name": "stdout",
     "output_type": "stream",
     "text": [
      "1. maths test: score: 20.0\n",
      "2. enlish test: score: 3.0\n",
      "3. econd test: score: 100.0\n"
     ]
    }
   ],
   "source": [
    "test_scores()"
   ]
  },
  {
   "cell_type": "markdown",
   "metadata": {},
   "source": [
    "### 2. Research Notes File Manager\n",
    "\n",
    "Uses a function to allow users to save research notes to a file.\n",
    "Uses another function to retrieve and display notes from the file.\n",
    "Uses try-except to handle file-related errors (e.g., file not found).\n",
    "Ensures that a category name is entered before saving.\n",
    "Uses a loop to allow the user to enter multiple notes before saving.\n",
    "\n",
    "Reminder: Reading and Writing to Files\n",
    "\n",
    "Writing to a file\n",
    "with open(\"notes.txt\", \"w\") as file:\n",
    "    file.write(\"Chemistry - Organic Reactions\\n\")\n",
    "    file.write(\"Physics - Newton's Laws\\n\")\n",
    "\n",
    "print(\"Notes saved successfully.\")\n",
    "\n",
    "Reading from a file\n",
    "with open(\"notes.txt\", \"r\") as file:\n",
    "    content = file.readlines()  # Reads all lines into a list\n",
    "\n",
    "print(\"\\nYour saved notes:\")\n",
    "for line in content:\n",
    "    print(line.strip())  # Strip removes extra newline characters"
   ]
  },
  {
   "cell_type": "code",
   "execution_count": null,
   "metadata": {},
   "outputs": [],
   "source": [
    "def note_manage():\n",
    "    "
   ]
  }
 ],
 "metadata": {
  "kernelspec": {
   "display_name": "Python 3 (ipykernel)",
   "language": "python",
   "name": "python3"
  }
 },
 "nbformat": 4,
 "nbformat_minor": 2
}
