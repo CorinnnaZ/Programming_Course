{
 "cells": [
  {
   "cell_type": "markdown",
   "id": "aae297f1",
   "metadata": {},
   "source": [
    "# Week 7 cont. : Database"
   ]
  },
  {
   "cell_type": "markdown",
   "id": "6de7d80a",
   "metadata": {},
   "source": [
    "### Establish connection"
   ]
  },
  {
   "cell_type": "code",
   "execution_count": 2,
   "id": "960b8b62",
   "metadata": {},
   "outputs": [],
   "source": [
    "import sqlite3\n",
    "\n",
    "def dbconnection(dbfile):\n",
    "    '''creates connection and cursor objects which allow you to work with the database'''\n",
    "    conn = sqlite3.connect(dbfile)\n",
    "    cur = conn.cursor()\n",
    "    print(\"connection success\")\n",
    "    return conn, cur"
   ]
  },
  {
   "cell_type": "markdown",
   "id": "0cc36d94",
   "metadata": {},
   "source": [
    "### Create a not-yet-existing data table"
   ]
  },
  {
   "cell_type": "code",
   "execution_count": 26,
   "id": "fbb4b3c2",
   "metadata": {},
   "outputs": [
    {
     "name": "stdout",
     "output_type": "stream",
     "text": [
      "connection success\n",
      "table creation success\n"
     ]
    }
   ],
   "source": [
    "conn, cur = dbconnection(\"students.db\")\n",
    "cur.execute('''\n",
    "    CREATE TABLE IF NOT EXISTS tblstudents (\n",
    "    id INTEGER PRIMARY KEY AUTOINCREMENT,\n",
    "    name TEXT,\n",
    "    age INTEGER,\n",
    "    grade TEXT\n",
    "  )\n",
    "  ''')\n",
    "print(\"table creation success\")"
   ]
  },
  {
   "cell_type": "markdown",
   "id": "6300e1c3",
   "metadata": {},
   "source": [
    "### Inserting Data"
   ]
  },
  {
   "cell_type": "code",
   "execution_count": 27,
   "id": "d8312bba",
   "metadata": {},
   "outputs": [
    {
     "data": {
      "text/plain": [
       "<sqlite3.Cursor at 0x783bf3fdfd40>"
      ]
     },
     "execution_count": 27,
     "metadata": {},
     "output_type": "execute_result"
    }
   ],
   "source": [
    "cur.executescript('''\n",
    "INSERT INTO tblstudents (name, age, grade)\n",
    "VALUES ('Freddie', 17, 'A');\n",
    "\n",
    "INSERT INTO tblstudents (name, age, grade)\n",
    "VALUES ('Corinna', 17, 'B');\n",
    "''')"
   ]
  },
  {
   "cell_type": "markdown",
   "id": "ecc495ed",
   "metadata": {},
   "source": [
    "### Fetching data"
   ]
  },
  {
   "cell_type": "code",
   "execution_count": 28,
   "id": "008ad0fa",
   "metadata": {},
   "outputs": [
    {
     "name": "stdout",
     "output_type": "stream",
     "text": [
      "(1, 'Freddie', 17, 'A')\n",
      "(2, 'Corinna', 17, 'A')\n",
      "(3, 'Freddie', 17, 'A')\n",
      "(4, 'Corinna', 17, 'B')\n"
     ]
    }
   ],
   "source": [
    "#1. Execute the query\n",
    "cur.execute('''\n",
    "    SELECT * FROM tblstudents;\n",
    "\n",
    "''')\n",
    "#2. Fetch records\n",
    "rows = cur.fetchall()\n",
    "\n",
    "#print results\n",
    "for row in rows:\n",
    "    print(row)\n",
    "conn.close()"
   ]
  },
  {
   "cell_type": "code",
   "execution_count": 29,
   "id": "5612dc63",
   "metadata": {},
   "outputs": [
    {
     "name": "stdout",
     "output_type": "stream",
     "text": [
      "connection success\n",
      "(1, 'Freddie', 17, 'A')\n",
      "(2, 'Corinna', 17, 'A')\n",
      "(3, 'Freddie', 17, 'A')\n",
      "(4, 'Corinna', 17, 'B')\n"
     ]
    }
   ],
   "source": [
    "def select_display_results(dbpath,query_string):\n",
    "    conn,cur = dbconnection(dbpath)\n",
    "    #1. Execute the query\n",
    "    cur.execute(f'''{query_string}''')\n",
    "    #2. Fetch all rows\n",
    "    rows = cur.fetchall()\n",
    "    #print data\n",
    "    for row in rows:\n",
    "        print(row)\n",
    "\n",
    "select_display_results(\"students.db\",\"SELECT * FROM tblstudents\")"
   ]
  },
  {
   "cell_type": "markdown",
   "id": "f4d75060",
   "metadata": {},
   "source": [
    "### Column specific retrieval"
   ]
  },
  {
   "cell_type": "code",
   "execution_count": null,
   "id": "aeb3b847",
   "metadata": {},
   "outputs": [
    {
     "name": "stdout",
     "output_type": "stream",
     "text": [
      "connection success\n",
      "[(1, 'Freddie', 17, 'A'), (2, 'Corinna', 17, 'A'), (3, 'Freddie', 17, 'A'), (4, 'Corinna', 17, 'B')]\n"
     ]
    }
   ],
   "source": [
    "def select_display_results(dbpath,query_string):\n",
    "    conn,cur = dbconnection(dbpath)\n",
    "    #1. Execute the query\n",
    "    cur.execute(f'''{query_string}''')\n",
    "    #2. \n",
    "    for i in range(len(cursor.description)):\n",
    "        print\n",
    "\n",
    "select_display_results(\"students.db\",\"SELECT name, age, grade FROM tblstudents\")\n"
   ]
  }
 ],
 "metadata": {
  "kernelspec": {
   "display_name": "Python 3 (ipykernel)",
   "language": "python",
   "name": "python3"
  },
  "language_info": {
   "codemirror_mode": {
    "name": "ipython",
    "version": 3
   },
   "file_extension": ".py",
   "mimetype": "text/x-python",
   "name": "python",
   "nbconvert_exporter": "python",
   "pygments_lexer": "ipython3",
   "version": "3.12.1"
  }
 },
 "nbformat": 4,
 "nbformat_minor": 5
}
