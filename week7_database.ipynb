{
 "cells": [
  {
   "cell_type": "markdown",
   "id": "aae297f1",
   "metadata": {},
   "source": [
    "### Week 7 cont. : Database"
   ]
  },
  {
   "cell_type": "code",
   "execution_count": 11,
   "id": "960b8b62",
   "metadata": {},
   "outputs": [],
   "source": [
    "import sqlite3\n",
    "\n",
    "def dbconnection(dbfile):\n",
    "    '''creates connection and cursor objects which allow you to work with the database'''\n",
    "    conn = sqlite3.connect(dbfile)\n",
    "    cur = conn.cursor()\n",
    "    print(\"Connection was successful\")\n",
    "    return conn, cur"
   ]
  },
  {
   "cell_type": "code",
   "execution_count": null,
   "id": "fbb4b3c2",
   "metadata": {},
   "outputs": [],
   "source": [
    "with open('students.db','wb') as file:\n",
    "    CREATE TABLE"
   ]
  }
 ],
 "metadata": {
  "kernelspec": {
   "display_name": "Python 3 (ipykernel)",
   "language": "python",
   "name": "python3"
  },
  "language_info": {
   "codemirror_mode": {
    "name": "ipython",
    "version": 3
   },
   "file_extension": ".py",
   "mimetype": "text/x-python",
   "name": "python",
   "nbconvert_exporter": "python",
   "pygments_lexer": "ipython3",
   "version": "3.12.1"
  }
 },
 "nbformat": 4,
 "nbformat_minor": 5
}
