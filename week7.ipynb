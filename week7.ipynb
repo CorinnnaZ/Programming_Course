{
 "cells": [
  {
   "cell_type": "markdown",
   "metadata": {},
   "source": [
    "# Week 7"
   ]
  },
  {
   "cell_type": "markdown",
   "metadata": {},
   "source": [
    "test"
   ]
  },
  {
   "cell_type": "code",
   "execution_count": 3,
   "metadata": {},
   "outputs": [],
   "source": [
    "class Car:\n",
    "    def __init__(self, brand, model, year):\n",
    "        self.brand = brand  # Attribute\n",
    "        self.model = model\n",
    "        self.year = year\n",
    "\n",
    "    def start_engine(self):  # Method\n",
    "        print(f\"The {self.brand} {self.model}'s engine has started.\")"
   ]
  },
  {
   "cell_type": "code",
   "execution_count": 4,
   "metadata": {},
   "outputs": [
    {
     "name": "stdout",
     "output_type": "stream",
     "text": [
      "Toyota\n",
      "The Toyota Corolla's engine has started.\n"
     ]
    }
   ],
   "source": [
    "# Creating an object (instance) of the Car class\n",
    "my_car = Car(\"Toyota\", \"Corolla\", 2020)\n",
    "print(my_car.brand)  # Output: Toyota\n",
    "my_car.start_engine()  # Output: The Toyota Corolla engine has started."
   ]
  },
  {
   "cell_type": "markdown",
   "metadata": {},
   "source": [
    "### Task 1. Simple Student Class\n",
    "- Write a Student class with the following:\n",
    "    1. Attributes:\n",
    "        1. name : The student's name.\n",
    "        2. age : The student's age.\n",
    "        3. grade : The student's current grade.\n",
    "    2. Method:\n",
    "        - display_info() : Print the student's details.\n",
    "        - Create a few istances of the student class\n",
    "- Stretch Task:\n",
    "    1. Add a method update_grade(new_grade) to change the student's grade.\n",
    "    2. Experiment with more methods in the student class"
   ]
  },
  {
   "cell_type": "code",
   "execution_count": 18,
   "metadata": {},
   "outputs": [],
   "source": [
    "class Student:\n",
    "    def __init__(self, name, age, grade): #initialises object\n",
    "        self.name = name\n",
    "        self.age = age\n",
    "        self.grade = grade\n",
    "\n",
    "    def display_info(self):\n",
    "        print(f\"Student name: {self.name} \\nStudent age: {self.age}\\nStudent grade: {self.grade}\\n---\")\n",
    "    \n",
    "    def update_grade(self):\n",
    "        new_grade = input('enter the new grade: ')\n",
    "        self.grade = new_grade\n"
   ]
  },
  {
   "cell_type": "code",
   "execution_count": 19,
   "metadata": {},
   "outputs": [
    {
     "name": "stdout",
     "output_type": "stream",
     "text": [
      "Student name: Corinna \n",
      "Student age: 17\n",
      "Student grade: 75%\n",
      "---\n",
      "Student name: Corinna \n",
      "Student age: 17\n",
      "Student grade: 80%\n",
      "---\n"
     ]
    }
   ],
   "source": [
    "student1 = Student('Corinna', '17', '75%')\n",
    "student2 = Student('Table', '3', '0%')\n",
    "student3 = Student('Charger', '5', '99.8%')\n",
    "\n",
    "student1.display_info()\n",
    "student1.update_grade()\n",
    "student1.display_info()"
   ]
  },
  {
   "cell_type": "markdown",
   "metadata": {},
   "source": [
    "### Task 2. Book Class\n",
    "- Create a Book class with:\n",
    "    1. Attributes:\n",
    "        1. title : The title of the book.\n",
    "        2. author : The author of the book.\n",
    "        3. year : The year the book was published.\n",
    "    2. Method:\n",
    "        - book_info() : Print the book's details.\n",
    "        - Create a few book instances\n",
    "- Stretch Task:\n",
    "    - Add a method is_classic() that returns True if the book was published before 1970."
   ]
  },
  {
   "cell_type": "code",
   "execution_count": 23,
   "metadata": {},
   "outputs": [],
   "source": [
    "class Book:\n",
    "    def __init__(self, title, author, year):\n",
    "        self.title = title\n",
    "        self.author = author\n",
    "        self.year = year\n",
    "   \n",
    "    def book_info(self):\n",
    "        print(f\"Book Title: {self.title} \\nAuthor: {self.author} \\nYear of Publication: {self.year}\\n---\")\n",
    "   \n",
    "    def is_classic(self):\n",
    "        if int(self.year) < 1970:\n",
    "            return True\n",
    "        else:\n",
    "            print('Not classic.')"
   ]
  },
  {
   "cell_type": "code",
   "execution_count": 24,
   "metadata": {},
   "outputs": [
    {
     "name": "stdout",
     "output_type": "stream",
     "text": [
      "Book Title: Le mythe de Sisyphe \n",
      "Author: Albert Camus \n",
      "Year of Publication: 1942\n",
      "---\n"
     ]
    },
    {
     "data": {
      "text/plain": [
       "True"
      ]
     },
     "execution_count": 24,
     "metadata": {},
     "output_type": "execute_result"
    }
   ],
   "source": [
    "book1 = Book('The MANIAC','Benjamin Labatut','2023')\n",
    "book2 = Book('Le mythe de Sisyphe','Albert Camus','1942')\n",
    "book3 = Book('Macbeth','Shakespeare','1623')\n",
    "\n",
    "book2.book_info()\n",
    "book3.is_classic()"
   ]
  },
  {
   "cell_type": "markdown",
   "metadata": {},
   "source": [
    "### Task 3. Bank Account Simulation\n",
    "- Create a BankAccount class with:\n",
    "    1. Attributes:\n",
    "        1. account_number : The unique number for the bank account.\n",
    "        2. balance : The current balance of the account.\n",
    "    2. Methods:\n",
    "        - deposit(amount) : Add money to the account.\n",
    "        - withdraw(amount) : Deduct money if sufficient balance exists.\n",
    "        - display_balance() : Show the current balance.\n",
    "- Create instances of 3 different bank accounts\n",
    "-   Stretch Task:\n",
    "    - Add transaction history by storing each deposit and withdrawal in a list"
   ]
  },
  {
   "cell_type": "code",
   "execution_count": null,
   "metadata": {},
   "outputs": [],
   "source": [
    "class BankAccount:\n",
    "    def __init__(self, account_number, balance):\n",
    "        self.__account_number = account_number\n",
    "        self.__balance = balance\n",
    "    def deposit(self, amount):\n",
    "        if amount > 0:\n",
    "            self.__balance += amount\n",
    "            print(f\"Deposited {amount}. New balance: {self.__balance}\")\n",
    "        else:\n",
    "            print(\"Invalid deposit amount.\")\n",
    "    def withdraw(self,amount):\n",
    "        if amount > 0:\n",
    "            self.__balance -= amount\n",
    "            print(f\"Withdrew {amount}. New balance: {self.__balance}\")\n",
    "        else:\n",
    "            print(\"Invalid withdrawal amount.\")\n",
    "    def display_balance(self):\n",
    "        print(f\"Your balance: {self.__balance}\")"
   ]
  },
  {
   "cell_type": "code",
   "execution_count": null,
   "metadata": {},
   "outputs": [],
   "source": []
  },
  {
   "cell_type": "markdown",
   "metadata": {},
   "source": [
    "### Task 4. Car Class with Start and Stop\n",
    "- Create a Car class with:\n",
    "    1. Attributes:\n",
    "        1. brand : The brand of the car.\n",
    "        2. model : The model of the car.\n",
    "        3. year : The year the car was manufactured.\n",
    "    2. Methods:\n",
    "        - start_engine() : Print a message when the car starts.\n",
    "        - stop_engine() : Print a message when the car stops.\n",
    "- Create 2 car instances\n",
    "- Stretch Task:\n",
    "    - Add a fuel attribute and update it when the car starts and stops."
   ]
  },
  {
   "cell_type": "code",
   "execution_count": null,
   "metadata": {},
   "outputs": [],
   "source": [
    "class Car:\n",
    "    def __init__(self, brand, model, year):\n",
    "        self.brand = brand  # Attribute\n",
    "        self.model = model\n",
    "        self.year = year\n",
    "\n",
    "    def start_engine(self):  # Method\n",
    "        print(f\"The {self.brand} {self.model}'s engine has started.\")\n",
    "    \n",
    "    def stop_engine(self):  # Method\n",
    "        print(f\"The {self.brand} {self.model}'s engine has stopped.\")"
   ]
  },
  {
   "cell_type": "markdown",
   "metadata": {},
   "source": [
    "### Task 5. Library System\n",
    "- Create a Library class with:\n",
    "    1. Attribute:\n",
    "        - books : A list of book titles available in the library.\n",
    "        - (borrower: borrower's name of the book)\n",
    "    2. Methods:\n",
    "        - add_book(title) : Add a new book to the library.\n",
    "        - borrow_book(title) : Remove a book from the list if available.\n",
    "        - display_books() : Show all available books in the library.\n",
    "-   Stretch Task:\n",
    "    - Track the borrower's name for each borrowed book and display it alongside the book title."
   ]
  },
  {
   "cell_type": "code",
   "execution_count": null,
   "metadata": {},
   "outputs": [],
   "source": [
    "class Library:\n",
    "    def __init__(self, book, borrower):\n",
    "        self.books = []\n",
    "        self.borrower = author\n",
    "\n",
    "class Book:\n",
    "    def __init__(self, title, author, year):\n",
    "        self.title = title\n",
    "        self.author = author\n",
    "        self.year = year\n",
    "   \n",
    "    def book_info(self):\n",
    "        print(f\"Book Title: {self.title} \\nAuthor: {self.author} \\nYear of Publication: {self.year}\\n---\")"
   ]
  }
 ],
 "metadata": {
  "kernelspec": {
   "display_name": "Python 3 (ipykernel)",
   "language": "python",
   "name": "python3"
  }
 },
 "nbformat": 4,
 "nbformat_minor": 2
}
