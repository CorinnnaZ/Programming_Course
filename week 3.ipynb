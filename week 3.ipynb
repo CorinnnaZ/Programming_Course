{
 "cells": [
  {
   "cell_type": "markdown",
   "metadata": {},
   "source": [
    "# Programming Skills Course: Week 3"
   ]
  },
  {
   "cell_type": "markdown",
   "metadata": {},
   "source": [
    "### Task 1: Circle calculations"
   ]
  },
  {
   "cell_type": "code",
   "execution_count": null,
   "metadata": {},
   "outputs": [],
   "source": [
    "def circle():\n",
    "    import math\n",
    "    pi = math.pi\n",
    "    r = float(input(\"Enter a circle's radius: \"))\n",
    "    print(f'The area of your circle is {(pi*r**2):.2f} to 2.d.p. .')\n",
    "    print(f'The circumference of your circle is {(pi*r*r*2):.2f} to 2.d.p .')"
   ]
  },
  {
   "cell_type": "markdown",
   "metadata": {},
   "source": [
    "### Task 2: 2 Dice Rolls"
   ]
  },
  {
   "cell_type": "code",
   "execution_count": null,
   "metadata": {},
   "outputs": [],
   "source": [
    "def diceroll():\n",
    "    import random\n",
    "    roll1 = random.randint(1,6)\n",
    "    roll2 = random.randint(1,6)\n",
    "    print(f'Your first roll was {roll1}')\n",
    "    print(f'Your second roll was {roll2}')\n",
    "    print(f'Your total score is {roll1+roll2}.')"
   ]
  },
  {
   "cell_type": "markdown",
   "metadata": {},
   "source": [
    "### Task 3: Countdown"
   ]
  },
  {
   "cell_type": "code",
   "execution_count": null,
   "metadata": {},
   "outputs": [],
   "source": [
    "def countdown():\n",
    "    import time\n",
    "    num = int(input('enter a number to countdown from: '))\n",
    "    for i in range (0, num+1):\n",
    "        time.sleep(1)\n",
    "        print(num)\n",
    "        if num == 0:\n",
    "            break\n",
    "        num -= 1"
   ]
  },
  {
   "cell_type": "markdown",
   "metadata": {},
   "source": [
    "### Task 4: Password Generator"
   ]
  },
  {
   "cell_type": "code",
   "execution_count": null,
   "metadata": {},
   "outputs": [],
   "source": [
    "def rand_char():\n",
    "    import random\n",
    "    characters = '1234567890-=qwertyuiop[]asdfghjkl;#\\zxcvbnm,./!\"£$%^&*()_+QWERTYUIOP}{ASDFGHJKL:@~ZXCVBNM<>?'\n",
    "    rand_char = random.choice(characters)\n",
    "    return rand_char\n",
    "\n",
    "def pass_gen():\n",
    "    # 9 characters long\n",
    "    password = ''\n",
    "    for i in range (9):\n",
    "        password += rand_char()\n",
    "    print(password)"
   ]
  },
  {
   "cell_type": "markdown",
   "metadata": {},
   "source": [
    "### Task 5: Stopwatch (Elapsed Time)"
   ]
  },
  {
   "cell_type": "code",
   "execution_count": null,
   "metadata": {},
   "outputs": [],
   "source": [
    "def stopwatch():\n",
    "    import time\n",
    "    start = input('Press Enter to start timing. ')\n",
    "    a = time.time()\n",
    "    stop = input('Press Enter again to stop timing. ')\n",
    "    b = time.time()\n",
    "    print(f'Your elapsed time is {b-a:.3f} seconds.')"
   ]
  }
 ],
 "metadata": {
  "kernelspec": {
   "display_name": "Python 3 (ipykernel)",
   "language": "python",
   "name": "python3"
  }
 },
 "nbformat": 4,
 "nbformat_minor": 2
}
