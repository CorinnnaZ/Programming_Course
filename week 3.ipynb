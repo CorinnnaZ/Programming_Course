{
 "cells": [
  {
   "cell_type": "markdown",
   "metadata": {},
   "source": [
    "# Programming Skills Course: Week 3"
   ]
  },
  {
   "cell_type": "markdown",
   "metadata": {},
   "source": [
    "### Task 1: Circle calculations"
   ]
  },
  {
   "cell_type": "code",
   "execution_count": null,
   "metadata": {},
   "outputs": [],
   "source": [
    "def circle():\n",
    "    import math\n",
    "    pi = math.pi\n",
    "    r = float(input(\"Enter a circle's radius: \"))\n",
    "    print(f'The area of your circle is {(pi*r**2):.2f} to 2.d.p. .')\n",
    "    print(f'The circumference of your circle is {(pi*r*r*2):.2f} to 2.d.p .')"
   ]
  },
  {
   "cell_type": "markdown",
   "metadata": {},
   "source": [
    "### Task 2: 2 Dice Rolls"
   ]
  },
  {
   "cell_type": "code",
   "execution_count": null,
   "metadata": {},
   "outputs": [],
   "source": [
    "def diceroll():\n",
    "    import random\n",
    "    roll1 = random.randint(1,6)\n",
    "    roll2 = random.randint(1,6)\n",
    "    print(f'Your first roll was {roll1}')\n",
    "    print(f'Your second roll was {roll2}')\n",
    "    print(f'Your total score is {roll1+roll2}.')"
   ]
  },
  {
   "cell_type": "markdown",
   "metadata": {},
   "source": [
    "### Task 3: Countdown"
   ]
  },
  {
   "cell_type": "code",
   "execution_count": null,
   "metadata": {},
   "outputs": [],
   "source": [
    "def countdown():\n",
    "    import time\n",
    "    num = int(input('enter a number to countdown from: '))\n",
    "    for i in range (0, num+1):\n",
    "        time.sleep(1)\n",
    "        print(num)\n",
    "        if num == 0:\n",
    "            break\n",
    "        num -= 1"
   ]
  },
  {
   "cell_type": "markdown",
   "metadata": {},
   "source": [
    "### Task 4: Password Generator"
   ]
  },
  {
   "cell_type": "code",
   "execution_count": null,
   "metadata": {},
   "outputs": [],
   "source": [
    "def pass_gen():\n",
    "    # at keast 8"
   ]
  },
  {
   "cell_type": "markdown",
   "metadata": {},
   "source": [
    "### Task 5: Stopwatch"
   ]
  },
  {
   "cell_type": "code",
   "execution_count": null,
   "metadata": {},
   "outputs": [],
   "source": [
    "def stopwatch():\n",
    "    import time\n",
    "    input() #enter to dtop"
   ]
  }
 ],
 "metadata": {
  "language_info": {
   "name": "python"
  }
 },
 "nbformat": 4,
 "nbformat_minor": 2
}
