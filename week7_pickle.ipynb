{
 "cells": [
  {
   "cell_type": "markdown",
   "id": "eed4b4cc",
   "metadata": {},
   "source": [
    "# Week7 cont. : Pickle"
   ]
  },
  {
   "cell_type": "markdown",
   "id": "853158b8",
   "metadata": {},
   "source": [
    "### Pickle Test"
   ]
  },
  {
   "cell_type": "code",
   "execution_count": 9,
   "id": "234bc3f0",
   "metadata": {},
   "outputs": [],
   "source": [
    "import pickle\n",
    "\n",
    "class Student:\n",
    "    def __init__(self, name, age, grade): #initialises object\n",
    "        self.name = name\n",
    "        self.age = age\n",
    "        self.grade = grade\n",
    "    \n",
    "    def display_info(self):\n",
    "        print(f\"Student name: {self.name} \\nStudent age: {self.age}\\nStudent grade: {self.grade}\\n---\")\n",
    "    \n",
    "    def update_grade(self):\n",
    "        new_grade = input('enter the new grade: ')\n",
    "        self.grade = new_grade\n",
    "\n",
    "student1 = Student('Corinna', '17', '75%')\n",
    "student2 = Student('Table', '3', '0%')\n",
    "student3 = Student('Charger', '5', '99.8%')\n",
    "\n",
    "with open('student1.pkl','wb') as file:\n",
    "    pickle.dump(student1, file)"
   ]
  },
  {
   "cell_type": "code",
   "execution_count": null,
   "id": "9f136017",
   "metadata": {},
   "outputs": [],
   "source": [
    "with open('student1.pkl', 'rb') as file:\n",
    "    load_student1 = pickle.load(file)\n",
    "    print(student1.name)\n",
    "    student1.display_info()"
   ]
  }
 ],
 "metadata": {
  "kernelspec": {
   "display_name": "Python 3 (ipykernel)",
   "language": "python",
   "name": "python3"
  },
  "language_info": {
   "codemirror_mode": {
    "name": "ipython",
    "version": 3
   },
   "file_extension": ".py",
   "mimetype": "text/x-python",
   "name": "python",
   "nbconvert_exporter": "python",
   "pygments_lexer": "ipython3",
   "version": "3.12.1"
  }
 },
 "nbformat": 4,
 "nbformat_minor": 5
}
