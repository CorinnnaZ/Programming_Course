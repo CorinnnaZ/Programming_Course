{
 "cells": [
  {
   "cell_type": "markdown",
   "metadata": {},
   "source": [
    "# Week 6"
   ]
  },
  {
   "cell_type": "markdown",
   "metadata": {},
   "source": [
    "### Task 1: Write and Read a File\n",
    "Write a program that:\n",
    " - prompts the user for their name and favorite color.\n",
    " - saves this information to user_info.txt.\n",
    " - reads the file and displays the saved information."
   ]
  },
  {
   "cell_type": "code",
   "execution_count": 15,
   "metadata": {},
   "outputs": [],
   "source": [
    "def askuserColour():\n",
    "    name = input('please enter your name: ')\n",
    "    colour = input('please enter your favourite colour: ')\n",
    "    try:\n",
    "        with open('user_info.txt', 'a') as file:\n",
    "            file.write(f'Name: {name} ; Favourite colour: {colour}\\n')\n",
    "        with open('user_info.txt', 'r') as file:\n",
    "            print(file.read())\n",
    "    except FileNotFoundError:\n",
    "        print('error: file not found')\n",
    "    "
   ]
  },
  {
   "cell_type": "code",
   "execution_count": 16,
   "metadata": {},
   "outputs": [
    {
     "name": "stdout",
     "output_type": "stream",
     "text": [
      "Name: corinna ; Favourite colour: blue\n",
      "Name: table ; Favourite colour: brown\n",
      "\n"
     ]
    }
   ],
   "source": [
    "askuserColour()"
   ]
  },
  {
   "cell_type": "markdown",
   "metadata": {},
   "source": [
    "### Task 2: Word Frequency Counter\n",
    "Write a program that:\n",
    "\n",
    "- Reads a text file (sample.txt).\n",
    "- Counts and displays the frequency of each word in the file."
   ]
  },
  {
   "cell_type": "code",
   "execution_count": null,
   "metadata": {},
   "outputs": [
    {
     "ename": "",
     "evalue": "",
     "output_type": "error",
     "traceback": [
      "\u001b[1;31mFailed to start the Kernel 'Python 3 (ipykernel)'. \n",
      "\u001b[1;31mView Jupyter <a href='command:jupyter.viewOutput'>log</a> for further details. Unable to get resolved server information for unknown:github-codespaces:jupyter-server-x57pjj4gvw9cj67"
     ]
    }
   ],
   "source": [
    "# I DON'T KNOW HOW TO STRIP/IGNORE PUNCTUATION\n",
    "words = {}\n",
    "file = open(\"sample.txt\", \"w\")\n",
    "file.write(\"Quick brown fox jumps over the brown quick lazy fox\")\n",
    "file = open(\"sample.txt\", \"r\")\n",
    "for line in file:\n",
    "    for word in line.split():\n",
    "        wordL = word.lower()\n",
    "        wordL.translate(None, string.punctuation)\n",
    "        if wordL in words:\n",
    "            words[wordL] +=1\n",
    "        else:\n",
    "            words[wordL] = 1\n",
    "print(words)\n",
    "file.close()"
   ]
  },
  {
   "cell_type": "markdown",
   "metadata": {},
   "source": [
    "### 3. Student Score Logger:\n",
    "\n",
    "Write a program that:\n",
    "\n",
    "- Stores student names and their scores in a CSV file (students.csv).\n",
    "- Reads and displays the stored student records."
   ]
  },
  {
   "cell_type": "code",
   "execution_count": null,
   "metadata": {},
   "outputs": [],
   "source": []
  },
  {
   "cell_type": "markdown",
   "metadata": {},
   "source": [
    "### 4. Task Manager with File Storage:\n",
    "Write a program that:\n",
    "\n",
    "- Allows users to add tasks to a to-do list stored in tasks.txt.\n",
    "- Displays all saved tasks when the program is run.\n",
    "- Allows users to mark tasks as complete."
   ]
  },
  {
   "cell_type": "code",
   "execution_count": null,
   "metadata": {},
   "outputs": [],
   "source": []
  },
  {
   "cell_type": "markdown",
   "metadata": {},
   "source": [
    "### 5. Game Hub – Play and Save Scores:\n",
    "Create a program where the user can choose to play one of the following games:\n",
    "\n",
    "Number Guessing Game: The computer randomly selects a number between 1 and 10, and the user has to guess it with hints (\"Too high\" or \"Too low\").\n",
    "Rock, Paper, Scissors: The user plays against the computer, and the winner is determined based on classic game rules.\n",
    "For each game:\n",
    "\n",
    "Store the player's name and their score in game_scores.txt.\n",
    "Allow the user to play multiple times and keep updating the scores."
   ]
  },
  {
   "cell_type": "code",
   "execution_count": null,
   "metadata": {},
   "outputs": [],
   "source": []
  }
 ],
 "metadata": {
  "kernelspec": {
   "display_name": "Python 3 (ipykernel)",
   "language": "python",
   "name": "python3"
  }
 },
 "nbformat": 4,
 "nbformat_minor": 2
}
