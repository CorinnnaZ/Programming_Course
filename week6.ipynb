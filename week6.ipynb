{
 "cells": [
  {
   "cell_type": "markdown",
   "metadata": {},
   "source": [
    "# Week 6"
   ]
  },
  {
   "cell_type": "markdown",
   "metadata": {},
   "source": [
    "### Task 1: Write and Read a File\n",
    "Write a program that:\n",
    " - prompts the user for their name and favorite color.\n",
    " - saves this information to user_info.txt.\n",
    " - reads the file and displays the saved information."
   ]
  },
  {
   "cell_type": "code",
   "execution_count": 15,
   "metadata": {},
   "outputs": [],
   "source": [
    "def askuserColour():\n",
    "    name = input('please enter your name: ')\n",
    "    colour = input('please enter your favourite colour: ')\n",
    "    try:\n",
    "        with open('user_info.txt', 'a') as file:\n",
    "            file.write(f'Name: {name} ; Favourite colour: {colour}\\n')\n",
    "        with open('user_info.txt', 'r') as file:\n",
    "            print(file.read())\n",
    "    except FileNotFoundError:\n",
    "        print('error: file not found')\n",
    "    "
   ]
  },
  {
   "cell_type": "code",
   "execution_count": 16,
   "metadata": {},
   "outputs": [
    {
     "name": "stdout",
     "output_type": "stream",
     "text": [
      "Name: corinna ; Favourite colour: blue\n",
      "Name: table ; Favourite colour: brown\n",
      "\n"
     ]
    }
   ],
   "source": [
    "askuserColour()"
   ]
  },
  {
   "cell_type": "markdown",
   "metadata": {},
   "source": [
    "### Task 2: Word Frequency Counter\n",
    "Write a program that:\n",
    "\n",
    "- Reads a text file (sample.txt).\n",
    "- Counts and displays the frequency of each word in the file."
   ]
  },
  {
   "cell_type": "code",
   "execution_count": 8,
   "metadata": {},
   "outputs": [
    {
     "name": "stdout",
     "output_type": "stream",
     "text": [
      "{'quick': 2, 'brown': 3, 'not': 1, 'fox': 2, 'jumps': 1, 'over': 1, 'the': 1, 'lazy': 1}\n"
     ]
    }
   ],
   "source": [
    "# I DON'T KNOW HOW TO STRIP/IGNORE PUNCTUATION\n",
    "import string\n",
    "words = {}\n",
    "file = open(\"sample.txt\", \"w\")\n",
    "file.write('Quick \"brown\" (not brown) fox jumps over the quick brown lazy fox')\n",
    "file = open(\"sample.txt\", \"r\")\n",
    "for line in file:\n",
    "    for word in line.split():\n",
    "        wordL = word.lower()\n",
    "        wordP = wordL.translate(str.maketrans('', '', string.punctuation))\n",
    "        if wordP in words:\n",
    "            words[wordP] +=1\n",
    "        else:\n",
    "            words[wordP] = 1\n",
    "print(words)\n",
    "file.close()"
   ]
  },
  {
   "cell_type": "markdown",
   "metadata": {},
   "source": [
    "### 3. Student Score Logger:\n",
    "\n",
    "Write a program that:\n",
    "\n",
    "- Stores student names and their scores in a CSV file (students.csv).\n",
    "- Reads and displays the stored student records."
   ]
  },
  {
   "cell_type": "code",
   "execution_count": null,
   "metadata": {},
   "outputs": [],
   "source": [
    "import csv\n",
    "\n",
    "file = open(\"students.csv\", \"w\", newline=\"\")\n",
    "writer = csv.writer(file)\n",
    "\n",
    "def scoreValidate():\n",
    "    while True:\n",
    "        try:\n",
    "            score = float(input(\"Please enter their test score: \"))\n",
    "            if score >= 0 and score <= 100:\n",
    "                return score\n",
    "            else:\n",
    "                print('Test score must be within the range of 0-100.')\n",
    "        except ValueError:\n",
    "            print(\"Invalid input. Please enter a valid number.\")\n",
    "\n",
    "def score_input():\n",
    "    student = input(\"Input the student's name: \")\n",
    "    score = scoreValidate()\n",
    "    return student,score\n",
    "\n",
    "def test_scores():\n",
    "    student,score= score_input()\n",
    "    writer.writerow([student, score])\n",
    "    cont = input('continue adding scores? enter \"yes\" to continue; anything else to exit: ')\n",
    "    if cont == 'yes':\n",
    "        test_scores()\n",
    "    else:\n",
    "        file.close()\n",
    "        scorePeek()\n",
    "\n",
    "def scorePeek():\n",
    "    num=1\n",
    "    score_check = input('check scores? enter \"yes\" to check; anything else to exit: ')\n",
    "    if score_check == 'yes':\n",
    "        with open(\"data.csv\", \"r\") as file:\n",
    "            reader = csv.reader(file)\n",
    "            for row in reader:\n",
    "                print(row)\n",
    "    else:\n",
    "        raise SystemExit"
   ]
  },
  {
   "cell_type": "code",
   "execution_count": 10,
   "metadata": {},
   "outputs": [
    {
     "name": "stdout",
     "output_type": "stream",
     "text": [
      "['corinna', '60.0']\n",
      "['freddie', '20.0']\n",
      "['max', '40.0']\n"
     ]
    }
   ],
   "source": [
    "test_scores()"
   ]
  },
  {
   "cell_type": "markdown",
   "metadata": {},
   "source": [
    "### 4. Task Manager with File Storage:\n",
    "Write a program that:\n",
    "\n",
    "- Allows users to add tasks to a to-do list stored in tasks.txt.\n",
    "- Displays all saved tasks when the program is run.\n",
    "- Allows users to mark tasks as complete."
   ]
  },
  {
   "cell_type": "code",
   "execution_count": null,
   "metadata": {},
   "outputs": [],
   "source": [
    "def validateChoice():\n",
    "    while True:\n",
    "        try:\n",
    "            userChoice = int(input('Choose an option from menu: '))\n",
    "            if userChoice in range(1,5):\n",
    "                return userChoice\n",
    "            else:\n",
    "                print(\"enter '1' to add tasks, '2' to check your tasks, '3' to check off tasks or '4' if you wish to quit.\")\n",
    "        except ValueError:\n",
    "            print(\"only enter '1', '2', '3' or '4' please!\")\n",
    "\n",
    "def iterValidate():\n",
    "    while True:\n",
    "        try:\n",
    "            iterate = int(input('\\nEnter how many tasks you wish to add: '))\n",
    "            return iterate\n",
    "        except ValueError:\n",
    "            print(\"enter whole numbers please!\")   \n",
    "\n",
    "def numValidate():\n",
    "    while True:\n",
    "        try:\n",
    "            iterate = int(input('\\nEnter the task number you wish to mark as complete: '))\n",
    "            return num\n",
    "        except ValueError:\n",
    "            print(\"enter whole numbers please!\")   \n",
    "def taskAdd():\n",
    "    plan_add = input(\"~~~\\nwould you like to add tasks? \\ntype 'yes' for yes, anything else for no: \")\n",
    "    if plan_add == 'yes':\n",
    "        iterate = iterValidate()\n",
    "        with open('tasks.txt', 'a') as file:\n",
    "            for i in range(iterate):\n",
    "                subject = input('\\nPlease enter a task: ')\n",
    "                file.write(f'{i+1}. {subject}')\n",
    "    print('.\\n.\\n.')\n",
    "    return study_planner()\n",
    "\n",
    "def taskCheck():\n",
    "    plan_check = input(\"~~~\\nwould you like to check your tasks? \\ntype 'yes' for yes, anything else for no: \")\n",
    "    if plan_check == 'yes':\n",
    "        with open('tasks.txt', 'r') as file:\n",
    "            print(file.read())\n",
    "    print('.\\n.\\n.')\n",
    "    return study_planner()\n",
    "\n",
    "def taskComplete():\n",
    "    task_comp = input(\"~~~\\nwould you like to mark task as complete? \\ntype 'yes' for yes, anything else for no: \")\n",
    "    if task_comp == 'yes':\n",
    "        num = numValidate()\n",
    "        with open('tasks.txt', 'a') as file:\n",
    "            line_count = 0\n",
    "            for line in f:\n",
    "                line_count += 1\n",
    "                if line_count == num:\n",
    "                    file.write(f' COMPLETED.')\n",
    "    print('.\\n.\\n.')\n",
    "    return study_planner()\n",
    "\n",
    "def taskMenu():\n",
    "    title = \"Task Manafer\"\n",
    "    deco =\"-\"\n",
    "    menuItems = '''1. Add Tasks\n",
    "2. Check Tasks\n",
    "3. Mark Task as Complete\n",
    "4. Exit Program'''\n",
    "    print(f\"{title}\\n{deco*len(title)}\\n{menuItems}\\n{deco*len(title)}\")\n",
    "\n",
    "def task_manager():\n",
    "    while True:\n",
    "        taskMenu()\n",
    "        userChoice = validateChoice()\n",
    "        if userChoice == 1:\n",
    "            print(taskAdd())\n",
    "        elif userChoice ==2:\n",
    "            print(taskCheck())\n",
    "        elif userChoice ==3:\n",
    "            print(taskComplete())\n",
    "        else:\n",
    "            print('exiting...')\n",
    "        break"
   ]
  },
  {
   "cell_type": "markdown",
   "metadata": {},
   "source": [
    "### 5. Game Hub – Play and Save Scores:\n",
    "Create a program where the user can choose to play one of the following games:\n",
    "\n",
    "1. Number Guessing Game: The computer randomly selects a number between 1 and 10, and the user has to guess it with hints (\"Too high\" or \"Too low\").\n",
    "2. Rock, Paper, Scissors: The user plays against the computer, and the winner is determined based on classic game rules.\n",
    "\n",
    "For each game:\n",
    "\n",
    "- Store the player's name and their score in game_scores.txt.\n",
    "- Allow the user to play multiple times and keep updating the scores."
   ]
  },
  {
   "cell_type": "code",
   "execution_count": null,
   "metadata": {},
   "outputs": [],
   "source": []
  }
 ],
 "metadata": {
  "kernelspec": {
   "display_name": "Python 3 (ipykernel)",
   "language": "python",
   "name": "python3"
  }
 },
 "nbformat": 4,
 "nbformat_minor": 2
}
