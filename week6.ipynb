{
 "cells": [
  {
   "cell_type": "markdown",
   "metadata": {},
   "source": [
    "# Week 6"
   ]
  },
  {
   "cell_type": "markdown",
   "metadata": {},
   "source": [
    "### Task 1: Write and Read a File\n",
    "Write a program that:\n",
    " - prompts the user for their name and favorite color.\n",
    " - saves this information to user_info.txt.\n",
    " - reads the file and displays the saved information."
   ]
  },
  {
   "cell_type": "code",
   "execution_count": 15,
   "metadata": {},
   "outputs": [],
   "source": [
    "def askuserColour():\n",
    "    name = input('please enter your name: ')\n",
    "    colour = input('please enter your favourite colour: ')\n",
    "    try:\n",
    "        with open('user_info.txt', 'a') as file:\n",
    "            file.write(f'Name: {name} ; Favourite colour: {colour}\\n')\n",
    "        with open('user_info.txt', 'r') as file:\n",
    "            print(file.read())\n",
    "    except FileNotFoundError:\n",
    "        print('error: file not found')\n",
    "    "
   ]
  },
  {
   "cell_type": "code",
   "execution_count": 16,
   "metadata": {},
   "outputs": [
    {
     "name": "stdout",
     "output_type": "stream",
     "text": [
      "Name: corinna ; Favourite colour: blue\n",
      "Name: table ; Favourite colour: brown\n",
      "\n"
     ]
    }
   ],
   "source": [
    "askuserColour()"
   ]
  },
  {
   "cell_type": "markdown",
   "metadata": {},
   "source": [
    "### Task 2: Word Frequency Counter\n",
    "Write a program that:\n",
    "\n",
    "- Reads a text file (sample.txt).\n",
    "- Counts and displays the frequency of each word in the file."
   ]
  },
  {
   "cell_type": "code",
   "execution_count": null,
   "metadata": {},
   "outputs": [],
   "source": [
    "def wordCount():\n",
    "    with open('sample.txt','r') as file:\n",
    "        file.read()\n",
    "    words = {}\n",
    "    count = 0\n",
    "    for word in file:\n",
    "        if word not in words:\n",
    "            words.setdefault({word: count+1})\n",
    "        else:\n",
    "            words.update({word: words[word]})"
   ]
  },
  {
   "cell_type": "markdown",
   "metadata": {},
   "source": [
    "5. Game Hub – Play and Save Scores:\n",
    "Create a program where the user can choose to play one of the following games:\n",
    "\n",
    "Number Guessing Game: The computer randomly selects a number between 1 and 10, and the user has to guess it with hints (\"Too high\" or \"Too low\").\n",
    "Rock, Paper, Scissors: The user plays against the computer, and the winner is determined based on classic game rules.\n",
    "For each game:\n",
    "\n",
    "Store the player's name and their score in game_scores.txt.\n",
    "Allow the user to play multiple times and keep updating the scores."
   ]
  }
 ],
 "metadata": {
  "kernelspec": {
   "display_name": "Python 3 (ipykernel)",
   "language": "python",
   "name": "python3"
  },
  "language_info": {
   "codemirror_mode": {
    "name": "ipython",
    "version": 3
   },
   "file_extension": ".py",
   "mimetype": "text/x-python",
   "name": "python",
   "nbconvert_exporter": "python",
   "pygments_lexer": "ipython3",
   "version": "3.12.1"
  }
 },
 "nbformat": 4,
 "nbformat_minor": 2
}
