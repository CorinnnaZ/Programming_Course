{
 "cells": [
  {
   "cell_type": "markdown",
   "metadata": {},
   "source": [
    "# Week 6"
   ]
  },
  {
   "cell_type": "markdown",
   "metadata": {},
   "source": [
    "### Task 1: Write and Read a File\n",
    "Write a program that:\n",
    " - prompts the user for their name and favorite color.\n",
    " - saves this information to user_info.txt.\n",
    " - reads the file and displays the saved information."
   ]
  },
  {
   "cell_type": "code",
   "execution_count": 1,
   "metadata": {},
   "outputs": [],
   "source": [
    "def askuserColour():\n",
    "    name = input('please enter your name: ')\n",
    "    colour = input('please enter your favourite colour: ')\n",
    "    with open('user_info.txt', 'w') as file:\n",
    "        file.write(f'Name: {name} ; Favourite colour: {colour}')\n",
    "    with open('user_info.txt', 'r') as file:\n",
    "        print(file.read())\n",
    "    "
   ]
  },
  {
   "cell_type": "code",
   "execution_count": 2,
   "metadata": {},
   "outputs": [
    {
     "name": "stdout",
     "output_type": "stream",
     "text": [
      "Name: corinna ; Favourite colour: blue\n"
     ]
    }
   ],
   "source": [
    "askuserColour()"
   ]
  },
  {
   "cell_type": "markdown",
   "metadata": {},
   "source": [
    "### Task 2: Word Frequency Counter\n",
    "Write a program that:\n",
    "\n",
    "- Reads a text file (sample.txt).\n",
    "- Counts and displays the frequency of each word in the file."
   ]
  }
 ],
 "metadata": {
  "kernelspec": {
   "display_name": "Python 3 (ipykernel)",
   "language": "python",
   "name": "python3"
  },
  "language_info": {
   "codemirror_mode": {
    "name": "ipython",
    "version": 3
   },
   "file_extension": ".py",
   "mimetype": "text/x-python",
   "name": "python",
   "nbconvert_exporter": "python",
   "pygments_lexer": "ipython3",
   "version": "3.12.1"
  }
 },
 "nbformat": 4,
 "nbformat_minor": 2
}
