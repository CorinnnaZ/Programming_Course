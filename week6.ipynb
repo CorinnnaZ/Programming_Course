{
 "cells": [
  {
   "cell_type": "markdown",
   "metadata": {},
   "source": [
    "# Week 6"
   ]
  },
  {
   "cell_type": "markdown",
   "metadata": {},
   "source": [
    "### Task 1: Write and Read a File\n",
    "Write a program that:\n",
    " - prompts the user for their name and favorite color.\n",
    " - saves this information to user_info.txt.\n",
    " - reads the file and displays the saved information."
   ]
  },
  {
   "cell_type": "code",
   "execution_count": 15,
   "metadata": {},
   "outputs": [],
   "source": [
    "def askuserColour():\n",
    "    name = input('please enter your name: ')\n",
    "    colour = input('please enter your favourite colour: ')\n",
    "    try:\n",
    "        with open('user_info.txt', 'a') as file:\n",
    "            file.write(f'Name: {name} ; Favourite colour: {colour}\\n')\n",
    "        with open('user_info.txt', 'r') as file:\n",
    "            print(file.read())\n",
    "    except FileNotFoundError:\n",
    "        print('error: file not found')\n",
    "    "
   ]
  },
  {
   "cell_type": "code",
   "execution_count": 16,
   "metadata": {},
   "outputs": [
    {
     "name": "stdout",
     "output_type": "stream",
     "text": [
      "Name: corinna ; Favourite colour: blue\n",
      "Name: table ; Favourite colour: brown\n",
      "\n"
     ]
    }
   ],
   "source": [
    "askuserColour()"
   ]
  },
  {
   "cell_type": "markdown",
   "metadata": {},
   "source": [
    "### Task 2: Word Frequency Counter\n",
    "Write a program that:\n",
    "\n",
    "- Reads a text file (sample.txt).\n",
    "- Counts and displays the frequency of each word in the file."
   ]
  },
  {
   "cell_type": "code",
   "execution_count": 17,
   "metadata": {},
   "outputs": [],
   "source": [
    "def wordCount():\n",
    "    with open('sample.txt','w') as file:\n",
    "        file.write(\"The capital and operating costs of limestone scrubbing technology are ranging from 191–316 US$/KW for the former and 0.78–1.56 USc/kWh for the latter. The sulfur dioxide removal efficiency achieved, in most of the cases, is greater than 95%. The capital and operating costs of dry spray scrubbers technology range from 125–216 US$/KW for the former and 0.59–0.70 USc/kWh for the latter. Spray dry scrubbers in commercial use have achieved sulfur dioxide removal efficiency not greater than 90%. The method can be used for fuel with sulfur content up to 3.5%. The capital and operating costs are fairly low, ranging from 29–7.74 US$/kW for the former and 0.39–0.70USc/kWh for the latter. dry additive (ineffective for sulfur oxide removal) Such method achieves sulfur dioxide removal efficiency of 50% and can be used for fuels with sulfur content up to 1%. Regenerable processes generally require no waste disposal, produce little waste water, and have low sorbent makeup requirements. In most such systems, a pre-scrubber is essential to control chlorides. Although these processes can achieve high SO2 removal efficiencies (>95%), they have in general high capital costs and power consumption. The main influencing parameters regarding the capital cost are the flue gas flow rate as well as the quality and composition of the used fuel. In comparison to wet scrubbing systems, the capital cost is higher due to the extra regeneration units, which is in the range of 383–650 US$/kW. \")\n",
    "    with open('sample.txt','r') as file:\n",
    "        file.read()\n",
    "    words = {}\n",
    "    count = 0\n",
    "    for word in file:\n",
    "        if word not in words:\n",
    "            words.setdefault({word: count+1})\n",
    "        else:\n",
    "            words.update({word: words[word]})"
   ]
  },
  {
   "cell_type": "code",
   "execution_count": 21,
   "metadata": {},
   "outputs": [
    {
     "ename": "FileNotFoundError",
     "evalue": "[Errno 2] No such file or directory: 'sample.txt'",
     "output_type": "error",
     "traceback": [
      "\u001b[0;31m---------------------------------------------------------------------------\u001b[0m",
      "\u001b[0;31mFileNotFoundError\u001b[0m                         Traceback (most recent call last)",
      "Cell \u001b[0;32mIn[21], line 1\u001b[0m\n\u001b[0;32m----> 1\u001b[0m \u001b[43mwordCount\u001b[49m\u001b[43m(\u001b[49m\u001b[43m)\u001b[49m\n",
      "Cell \u001b[0;32mIn[17], line 2\u001b[0m, in \u001b[0;36mwordCount\u001b[0;34m()\u001b[0m\n\u001b[1;32m      1\u001b[0m \u001b[38;5;28;01mdef\u001b[39;00m \u001b[38;5;21mwordCount\u001b[39m():\n\u001b[0;32m----> 2\u001b[0m     \u001b[38;5;28;01mwith\u001b[39;00m \u001b[38;5;28;43mopen\u001b[39;49m\u001b[43m(\u001b[49m\u001b[38;5;124;43m'\u001b[39;49m\u001b[38;5;124;43msample.txt\u001b[39;49m\u001b[38;5;124;43m'\u001b[39;49m\u001b[43m,\u001b[49m\u001b[38;5;124;43m'\u001b[39;49m\u001b[38;5;124;43mr\u001b[39;49m\u001b[38;5;124;43m'\u001b[39;49m\u001b[43m)\u001b[49m \u001b[38;5;28;01mas\u001b[39;00m file:\n\u001b[1;32m      3\u001b[0m         file\u001b[38;5;241m.\u001b[39mread()\n\u001b[1;32m      4\u001b[0m     words \u001b[38;5;241m=\u001b[39m {}\n",
      "File \u001b[0;32m~/.local/lib/python3.12/site-packages/IPython/core/interactiveshell.py:324\u001b[0m, in \u001b[0;36m_modified_open\u001b[0;34m(file, *args, **kwargs)\u001b[0m\n\u001b[1;32m    317\u001b[0m \u001b[38;5;28;01mif\u001b[39;00m file \u001b[38;5;129;01min\u001b[39;00m {\u001b[38;5;241m0\u001b[39m, \u001b[38;5;241m1\u001b[39m, \u001b[38;5;241m2\u001b[39m}:\n\u001b[1;32m    318\u001b[0m     \u001b[38;5;28;01mraise\u001b[39;00m \u001b[38;5;167;01mValueError\u001b[39;00m(\n\u001b[1;32m    319\u001b[0m         \u001b[38;5;124mf\u001b[39m\u001b[38;5;124m\"\u001b[39m\u001b[38;5;124mIPython won\u001b[39m\u001b[38;5;124m'\u001b[39m\u001b[38;5;124mt let you open fd=\u001b[39m\u001b[38;5;132;01m{\u001b[39;00mfile\u001b[38;5;132;01m}\u001b[39;00m\u001b[38;5;124m by default \u001b[39m\u001b[38;5;124m\"\u001b[39m\n\u001b[1;32m    320\u001b[0m         \u001b[38;5;124m\"\u001b[39m\u001b[38;5;124mas it is likely to crash IPython. If you know what you are doing, \u001b[39m\u001b[38;5;124m\"\u001b[39m\n\u001b[1;32m    321\u001b[0m         \u001b[38;5;124m\"\u001b[39m\u001b[38;5;124myou can use builtins\u001b[39m\u001b[38;5;124m'\u001b[39m\u001b[38;5;124m open.\u001b[39m\u001b[38;5;124m\"\u001b[39m\n\u001b[1;32m    322\u001b[0m     )\n\u001b[0;32m--> 324\u001b[0m \u001b[38;5;28;01mreturn\u001b[39;00m \u001b[43mio_open\u001b[49m\u001b[43m(\u001b[49m\u001b[43mfile\u001b[49m\u001b[43m,\u001b[49m\u001b[43m \u001b[49m\u001b[38;5;241;43m*\u001b[39;49m\u001b[43margs\u001b[49m\u001b[43m,\u001b[49m\u001b[43m \u001b[49m\u001b[38;5;241;43m*\u001b[39;49m\u001b[38;5;241;43m*\u001b[39;49m\u001b[43mkwargs\u001b[49m\u001b[43m)\u001b[49m\n",
      "\u001b[0;31mFileNotFoundError\u001b[0m: [Errno 2] No such file or directory: 'sample.txt'"
     ]
    }
   ],
   "source": [
    "wordCount()"
   ]
  },
  {
   "cell_type": "markdown",
   "metadata": {},
   "source": [
    "5. Game Hub – Play and Save Scores:\n",
    "Create a program where the user can choose to play one of the following games:\n",
    "\n",
    "Number Guessing Game: The computer randomly selects a number between 1 and 10, and the user has to guess it with hints (\"Too high\" or \"Too low\").\n",
    "Rock, Paper, Scissors: The user plays against the computer, and the winner is determined based on classic game rules.\n",
    "For each game:\n",
    "\n",
    "Store the player's name and their score in game_scores.txt.\n",
    "Allow the user to play multiple times and keep updating the scores."
   ]
  }
 ],
 "metadata": {
  "kernelspec": {
   "display_name": "Python 3 (ipykernel)",
   "language": "python",
   "name": "python3"
  }
 },
 "nbformat": 4,
 "nbformat_minor": 2
}
