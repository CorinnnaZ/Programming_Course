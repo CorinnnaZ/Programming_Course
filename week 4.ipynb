{
 "cells": [
  {
   "cell_type": "markdown",
   "metadata": {},
   "source": [
    "# Programming Skills Course: Week 4"
   ]
  },
  {
   "cell_type": "markdown",
   "metadata": {},
   "source": [
    "### Task 1: Study Planner (List)"
   ]
  },
  {
   "cell_type": "code",
   "execution_count": 6,
   "metadata": {},
   "outputs": [],
   "source": [
    "def study_planner():\n",
    "    subjects = [] \n",
    "    num=1\n",
    "    for i in range(4):\n",
    "        subject = input('Please enter a subject: ')\n",
    "        topic = input(f\"Please enter your {subject}'s topic. \")\n",
    "        subjects.append((subject,topic))\n",
    "    print(subjects)\n",
    "    checker = input(\"would you like to check your study plan? type 'yes' for yes, anything else for no.\")\n",
    "    if checker == 'yes':\n",
    "        for subject,topic in subjects:\n",
    "            print(f'{num}. {subject} - Topic to study: {topic}')\n",
    "            num+=1\n",
    "    else:\n",
    "        raise SystemExit"
   ]
  },
  {
   "cell_type": "code",
   "execution_count": 7,
   "metadata": {},
   "outputs": [
    {
     "name": "stdout",
     "output_type": "stream",
     "text": [
      "[('dokwopcfjwipf', 'fjeacfjaeif'), ('wffcefi', 'rfefj'), ('r', 'r'), ('', 'edc ')]\n",
      "0. dokwopcfjwipf - Topic to study: fjeacfjaeif\n",
      "1. wffcefi - Topic to study: rfefj\n",
      "2. r - Topic to study: r\n",
      "3.  - Topic to study: edc \n"
     ]
    }
   ],
   "source": [
    "study_planner()"
   ]
  },
  {
   "cell_type": "markdown",
   "metadata": {},
   "source": [
    "### Task 2: 2 Research Notes Organisers (Dictionaries)"
   ]
  },
  {
   "cell_type": "code",
   "execution_count": null,
   "metadata": {},
   "outputs": [],
   "source": [
    "def notes_organiser():\n",
    "    "
   ]
  },
  {
   "cell_type": "markdown",
   "metadata": {},
   "source": [
    "### Task 3: Student Test Results Summary"
   ]
  },
  {
   "cell_type": "code",
   "execution_count": null,
   "metadata": {},
   "outputs": [],
   "source": [
    "def test_summary():\n",
    "    "
   ]
  },
  {
   "cell_type": "markdown",
   "metadata": {},
   "source": [
    "### Task 4: Material Inventory Search"
   ]
  },
  {
   "cell_type": "code",
   "execution_count": null,
   "metadata": {},
   "outputs": [],
   "source": [
    "def mats_stock():\n",
    "    "
   ]
  },
  {
   "cell_type": "markdown",
   "metadata": {},
   "source": [
    "### Task 5: Chemical Reagents Stock Tracker"
   ]
  },
  {
   "cell_type": "code",
   "execution_count": null,
   "metadata": {},
   "outputs": [],
   "source": [
    "def chem_stock():\n",
    "    "
   ]
  },
  {
   "cell_type": "markdown",
   "metadata": {},
   "source": [
    "### Task 6: Geometry Helper for Mathematics"
   ]
  },
  {
   "cell_type": "code",
   "execution_count": null,
   "metadata": {},
   "outputs": [],
   "source": [
    "def geom_help():\n",
    "    "
   ]
  }
 ],
 "metadata": {
  "kernelspec": {
   "display_name": "Python 3 (ipykernel)",
   "language": "python",
   "name": "python3"
  },
  "language_info": {
   "codemirror_mode": {
    "name": "ipython",
    "version": 3
   },
   "file_extension": ".py",
   "mimetype": "text/x-python",
   "name": "python",
   "nbconvert_exporter": "python",
   "pygments_lexer": "ipython3",
   "version": "3.12.1"
  }
 },
 "nbformat": 4,
 "nbformat_minor": 2
}
