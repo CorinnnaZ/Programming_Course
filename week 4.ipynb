{
 "cells": [
  {
   "cell_type": "markdown",
   "metadata": {},
   "source": [
    "# Programming Skills Course: Week 4"
   ]
  },
  {
   "cell_type": "markdown",
   "metadata": {},
   "source": [
    "### Task 1: Study Planner (List)"
   ]
  },
  {
   "cell_type": "markdown",
   "metadata": {},
   "source": [
    "Write a program that uses a list and tuple structure to:\n",
    "\n",
    "Allows the users to create a study plan for week by subjects and topics they take, adding 4 subjects and a topic for each subject to a list.\n",
    "\n",
    "Provides functionality via a simple menu for the following operations:\n",
    "- Get the subjects into your program as user input\n",
    "- Display all subjects and topics in the study plan in a user friendly way - using meaningful titles\n",
    "- Search for a specific subject or topic to check if it is in the study plan.\n",
    "- Remove a subject or topic from the plan if it is no longer needed.\n",
    "- Handle cases where there is no topic to display, to remove or where a search results returns null results.\n"
   ]
  },
  {
   "cell_type": "code",
   "execution_count": null,
   "metadata": {},
   "outputs": [],
   "source": [
    "subjects = [] \n",
    "\n",
    "def validateChoice():\n",
    "    while True:\n",
    "        try:\n",
    "            userChoice = int(input('Choose an option from menu: '))\n",
    "            if userChoice in range(1,6):\n",
    "                return userChoice\n",
    "            else:\n",
    "                print(\"enter '1' to add subjects, '2' to check your subjects, '3' to search for subjects, '4' to remove subjects or '5' if you wish to quit.\")\n",
    "        except ValueError:\n",
    "            print(\"only enter '1', '2', '3', '4' or '5' please!\")\n",
    "\n",
    "def iterValidate():\n",
    "    while True:\n",
    "        try:\n",
    "            iterate = int(input('\\nPlease enter how many subjects you wish to add: '))\n",
    "            return iterate\n",
    "        except ValueError:\n",
    "            print(\"enter whole numbers please!\")   \n",
    "\n",
    "def studyplanAdd():\n",
    "    plan_add = input(\"~~~\\nwould you like to add to your study plan? \\ntype 'yes' for yes, anything else for no: \")\n",
    "    if plan_add == 'yes':\n",
    "        iterate = iterValidate()\n",
    "        for i in range(iterate):\n",
    "            subject = input('\\nPlease enter a subject: ')\n",
    "            topic = input(f\"Please enter your {subject}'s topic. \")\n",
    "            subjects.append((subject,topic))\n",
    "    print('.\\n.\\n.')\n",
    "    return study_planner()\n",
    "\n",
    "def studyplanCheck():\n",
    "    plan_check = input(\"~~~\\nwould you like to check your study plan? \\ntype 'yes' for yes, anything else for no: \")\n",
    "    if plan_check == 'yes':\n",
    "        num=1\n",
    "        for subject,topic in subjects:\n",
    "            print(f'{num}. {subject} - Topic to study: {topic}')\n",
    "            num+=1\n",
    "    print('.\\n.\\n.')\n",
    "    return study_planner()\n",
    "\n",
    "def studyplanSearch():\n",
    "    plan_search = input(\"~~~\\nwould you like to search your study plan? \\ntype 'yes' for yes, anything else for no: \")\n",
    "    if plan_search == 'yes':\n",
    "        tosearch = input('what do you want to find? ')\n",
    "        if any(tosearch in item for item in subjects):\n",
    "            print(f\"Found {tosearch}.\")\n",
    "        else:\n",
    "            print(f\"{tosearch} was not found.\")\n",
    "            print('uh oh, error.')\n",
    "            raise SystemExit\n",
    "    print('.\\n.\\n.')\n",
    "    return study_planner()\n",
    "\n",
    "def studyplanMenu():\n",
    "    title = \"Study Plan\"\n",
    "    deco =\"-\"\n",
    "    menuItems = '''1. Add Subjects/Topics\n",
    "2. Check Subjects/Topics\n",
    "3. Search for Subjects/Topics\n",
    "4. Remove Subjects/Topics\n",
    "5. Exit Program'''\n",
    "    print(f\"{title}\\n{deco*len(title)}\\n{menuItems}\\n{deco*len(title)}\")\n",
    "\n",
    "def study_planner():\n",
    "    while True:\n",
    "        studyplanMenu()\n",
    "        userChoice = validateChoice()\n",
    "        if userChoice == 1:\n",
    "            print(studyplanAdd())\n",
    "        elif userChoice ==2:\n",
    "            print(studyplanCheck())\n",
    "        elif userChoice ==3:\n",
    "            print(studyplanSearch())\n",
    "        elif userChoice ==4:\n",
    "            print(studyplanRemove())\n",
    "        else:\n",
    "            print('thank you for taking part!')\n",
    "        break"
   ]
  },
  {
   "cell_type": "code",
   "execution_count": 5,
   "metadata": {},
   "outputs": [
    {
     "name": "stdout",
     "output_type": "stream",
     "text": [
      "Study Plan\n",
      "----------\n",
      "1. Add Subjects/Topics\n",
      "2. Check Subjects/Topics\n",
      "3. Search for Subjects/Topics\n",
      "4. Remove Subjects/Topics\n",
      "5. Exit Program\n",
      "----------\n",
      ".\n",
      ".\n",
      ".\n",
      "Study Plan\n",
      "----------\n",
      "1. Add Subjects/Topics\n",
      "2. Check Subjects/Topics\n",
      "3. Search for Subjects/Topics\n",
      "4. Remove Subjects/Topics\n",
      "5. Exit Program\n",
      "----------\n",
      "uh oh, error.\n"
     ]
    },
    {
     "ename": "SystemExit",
     "evalue": "",
     "output_type": "error",
     "traceback": [
      "An exception has occurred, use %tb to see the full traceback.\n",
      "\u001b[0;31mSystemExit\u001b[0m\n"
     ]
    }
   ],
   "source": [
    "study_planner()"
   ]
  },
  {
   "cell_type": "markdown",
   "metadata": {},
   "source": [
    "### Task 2: 2 Research Notes Organisers (Dictionaries)"
   ]
  },
  {
   "cell_type": "markdown",
   "metadata": {},
   "source": [
    "2. Research Notes Organiser (Dictionaries)\n",
    "Write a program that:\n",
    "\n",
    "Helps organise research notes for Chemistry or Design Technology by storing notes under categories (e.g., \"Materials\", \"Processes\", \"Safety\").\n",
    "Provides functionality to:\n",
    "Add new notes to a category.\n",
    "Search for a category and display all notes within it.\n",
    "Delete a category if it is no longer needed.\n",
    "Display all categories and their corresponding notes using a loop"
   ]
  },
  {
   "cell_type": "code",
   "execution_count": null,
   "metadata": {},
   "outputs": [],
   "source": [
    "def notes_organiser():\n",
    "    "
   ]
  },
  {
   "cell_type": "markdown",
   "metadata": {},
   "source": [
    "### Task 3: Student Test Results Summary"
   ]
  },
  {
   "cell_type": "markdown",
   "metadata": {},
   "source": [
    "Write a program that:\n",
    "\n",
    "Accepts a collection of student test scores (e.g., from a recent mock exam).\n",
    "Creates a function that calculates and returns:\n",
    "- The total score.\n",
    "- The number of students.\n",
    "- The average score.\n",
    "- Display the results (total, number of students, average) in the main program.\n",
    "- Use a loop to display each student's score alongside their index in the collection."
   ]
  },
  {
   "cell_type": "code",
   "execution_count": null,
   "metadata": {},
   "outputs": [],
   "source": [
    "def test_summary():\n",
    "    "
   ]
  },
  {
   "cell_type": "markdown",
   "metadata": {},
   "source": [
    "### Task 4: Material Inventory Search"
   ]
  },
  {
   "cell_type": "markdown",
   "metadata": {},
   "source": [
    "rite a program for a Design Technology workshop that:\n",
    "\n",
    "Stores a collection of materials (e.g., wood, metal, plastic) and their available quantities.\n",
    "Iterates through the collection to display each material and its quantity.\n",
    "Allows the user to input the name of a material and:\n",
    "Check if it exists in the inventory.\n",
    "Display its quantity if it exists, or a message if it doesn't."
   ]
  },
  {
   "cell_type": "code",
   "execution_count": null,
   "metadata": {},
   "outputs": [],
   "source": [
    "def mats_stock():\n",
    "    "
   ]
  },
  {
   "cell_type": "markdown",
   "metadata": {},
   "source": [
    "### Task 5: Chemical Reagents Stock Tracker"
   ]
  },
  {
   "cell_type": "markdown",
   "metadata": {},
   "source": [
    "Write a program for a Chemistry lab that:\n",
    "\n",
    "Stores a collection of chemical reagents and their available quantities.\n",
    "Allows the user to:\n",
    "Add a new reagent and its quantity.\n",
    "Search for a reagent and display its quantity if it exists.\n",
    "Reduce the quantity of a reagent after usage.\n",
    "Display all reagents and their quantities.\n"
   ]
  },
  {
   "cell_type": "code",
   "execution_count": null,
   "metadata": {},
   "outputs": [],
   "source": [
    "def chem_stock():\n",
    "    "
   ]
  },
  {
   "cell_type": "markdown",
   "metadata": {},
   "source": [
    "### Task 6: Geometry Helper for Mathematics"
   ]
  },
  {
   "cell_type": "markdown",
   "metadata": {},
   "source": [
    "Write a program that:\n",
    "\n",
    "Accepts a collection of shapes (e.g., circle, square, rectangle) and their dimensions.\n",
    "\n",
    "Provides the following functionality:\n",
    "- Calculate and display the area of each shape.\n",
    "- Search for a specific shape and display its dimensions and area.\n",
    "- Use a function to perform the area calculation, and ensure the program can handle different shapes dynamically."
   ]
  },
  {
   "cell_type": "code",
   "execution_count": null,
   "metadata": {},
   "outputs": [],
   "source": [
    "import math\n",
    "shapes = [square,rectangle,circle,triangle]\n",
    "\n",
    "def shapeChecker():\n",
    "    while True:\n",
    "        try:\n",
    "            print('valid shapes include: \"square\", \"rectangle\", \"circle\"and \"triangle\".')\n",
    "            shapeDef = input('input shape type: ').lower()\n",
    "            if shapeDef in shapes:\n",
    "                return shapeDef\n",
    "            else:\n",
    "                print('not a valid shape.')\n",
    "        except ValueError:\n",
    "            print('unknown error, please try again.')\n",
    "\n",
    "def rectangle():\n",
    "    d\n",
    "\n",
    "def circle():\n",
    "    d\n",
    "\n",
    "def triangle():\n",
    "    d\n",
    "\n",
    "def geomHelp():\n",
    "    '''menu print out'''\n",
    "    title = \"Geometry Helper\"\n",
    "    deco =\"-\"\n",
    "    print(f\"{title}\\n{deco*len(title)}\")\n",
    "    print('please input a shape to calculate the area of.')\n",
    "    shapeDef = shapeChecker()\n",
    "    if shapeDef = shapes[0] or shapeDef = shapes[1]:\n",
    "        print(rectangle())\n",
    "    elif shapeDef = shapes[2]:\n",
    "        print(circle())\n",
    "    elif shapeDef = shapes[3]:\n",
    "        print(triangle())\n",
    "    else:\n",
    "        print('unknown error, please try again.')   \n"
   ]
  }
 ],
 "metadata": {
  "kernelspec": {
   "display_name": "Python 3 (ipykernel)",
   "language": "python",
   "name": "python3"
  },
  "language_info": {
   "codemirror_mode": {
    "name": "ipython",
    "version": 3
   },
   "file_extension": ".py",
   "mimetype": "text/x-python",
   "name": "python",
   "nbconvert_exporter": "python",
   "pygments_lexer": "ipython3",
   "version": "3.12.1"
  }
 },
 "nbformat": 4,
 "nbformat_minor": 2
}
